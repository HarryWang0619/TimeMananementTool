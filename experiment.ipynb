{
 "cells": [
  {
   "cell_type": "code",
   "execution_count": 25,
   "metadata": {},
   "outputs": [],
   "source": [
    "class simpletime:\n",
    "    def __init__(self, hour, min): # hour is in 24-hour format, min is in minutes, no seconds.\n",
    "        self.hour = hour\n",
    "        self.min = min\n",
    "    def __str__(self):\n",
    "        return str(self.hour) + \":\" + str(self.min)\n",
    "    def __add__(self, other):\n",
    "        return simpletime(self.hour + other.hour, self.min + other.min)\n",
    "    def __eq__(self, __o):\n",
    "        return self.hour == __o.hour and self.min == __o.min\n",
    "    def min(self):\n",
    "        return self.min\n",
    "    def hour(self):\n",
    "        return self.hour\n",
    "    "
   ]
  },
  {
   "cell_type": "code",
   "execution_count": 55,
   "metadata": {},
   "outputs": [],
   "source": [
    "class simpledate:\n",
    "    def __init__(self, day, month, year):\n",
    "        self.day = day\n",
    "        self.month = month\n",
    "        self.year = year\n",
    "    def __str__(self):\n",
    "        return str(self.day) + \"/\" + str(self.month) + \"/\" + str(self.year)\n",
    "    def __eq__(self, __o) -> bool:\n",
    "        return self.day == __o.day and self.month == __o.month and self.year == __o.year\n",
    "    def day(self):\n",
    "        return self.day\n",
    "    def month(self):\n",
    "        return self.month\n",
    "    def year(self):\n",
    "        return self.year"
   ]
  },
  {
   "cell_type": "code",
   "execution_count": 56,
   "metadata": {},
   "outputs": [],
   "source": [
    "class simpledatetime:\n",
    "    def __init__(self, date: simpledate, time: simpletime):\n",
    "        self.date = date\n",
    "        self.time = time\n",
    "    def __str__(self):\n",
    "        return str(self.date) + \" \" + str(self.time)\n",
    "    def __eq__(self, __o) -> bool:\n",
    "        return self.date == __o.date and self.time == __o.time\n",
    "    def date(self):\n",
    "        return self.date\n",
    "    def time(self):\n",
    "        return self.time"
   ]
  },
  {
   "cell_type": "code",
   "execution_count": null,
   "metadata": {},
   "outputs": [],
   "source": [
    "class event:\n",
    "    def __init__(self, id, name, duration, type, category, priority, deadline, recursive=None, recursive_end=None, block=False):\n",
    "        self.id = id # Could be autoassigned by the system.\n",
    "        self.name = name #User defined name\n",
    "        self.duration = duration #User defined duration\n",
    "        self.type = type #User defined type **\n",
    "        # Task: Weekly, Monthly, Daily, Yearly. \n",
    "        # Deadline: Deadline due Date. Always Highest Priority.\n",
    "        # Event: Meeting, Appointment.\n",
    "        self.category = category #User defined category: work, entertainment, etc.\n",
    "        self.priority = priority # Priority of the event.\n",
    "        self.deadline = deadline #Deadline of the event.\n",
    "        self.recursive = recursive # If the event is recursive, we will add it to the list of events.\n",
    "        self.recursive_end = recursive_end # The end time of the recursive event.\n",
    "        self.block = block # True or False: If true, divide the event into blocks of events.\n",
    "    def __str__(self):\n",
    "        return str(self.id)+\"-'\"+str(self.name)+\"', est: \"+str(self.duration)+\", type: \"+str(self.type)+\", category: \"+str(self.category)\n",
    "    \n",
    "    ## self.subblock if self.block is true.\n",
    "    ## self.realtimecost updated after event end."
   ]
  },
  {
   "cell_type": "code",
   "execution_count": null,
   "metadata": {},
   "outputs": [],
   "source": [
    "class block:\n",
    "    def __init__(self, id, parent, category, priority, duration, date, time):\n",
    "        self.id = id\n",
    "        self.parent = parent\n",
    "        self.category = category\n",
    "        self.priority = priority\n",
    "        self.duration = duration"
   ]
  },
  {
   "cell_type": "code",
   "execution_count": 57,
   "metadata": {},
   "outputs": [],
   "source": [
    "block = 10 # block = 5 min or 10 min or 30 min.\n",
    "preferredworkingtime = simpletime(0,30)\n",
    "preferredbreaktime = simpletime(0,10)\n",
    "daystart = simpletime(9, 30)\n",
    "## This should be the time you can start to work \n",
    "dayend = simpletime(22, 30)\n",
    "## This should be the time you stop to work. You can take a bath after this time but I don't care about that."
   ]
  },
  {
   "cell_type": "code",
   "execution_count": 74,
   "metadata": {},
   "outputs": [],
   "source": [
    "stoptime = []\n",
    "stoptime.append([simpletime(12,00), simpletime(13,00)])\n",
    "# stoptime.append([simpletime(14,00), simpletime(16,00)])\n",
    "stoptime.append([simpletime(17,00), simpletime(19,00)])"
   ]
  },
  {
   "cell_type": "code",
   "execution_count": 75,
   "metadata": {},
   "outputs": [],
   "source": [
    "workingtime = []\n",
    "#!!!!!!<Bug might happened if same time point>\n",
    "workingtime.append([daystart, stoptime[0][0]])\n",
    "for i in range(len(stoptime)):\n",
    "    if i == len(stoptime)-1:\n",
    "        workingtime.append([stoptime[i][1], dayend])\n",
    "    else:\n",
    "        workingtime.append([stoptime[i][1], stoptime[i+1][0]])"
   ]
  },
  {
   "cell_type": "code",
   "execution_count": 76,
   "metadata": {},
   "outputs": [
    {
     "name": "stdout",
     "output_type": "stream",
     "text": [
      "9:30 to 12:0\n",
      "13:0 to 17:0\n",
      "19:0 to 22:30\n"
     ]
    }
   ],
   "source": [
    "for i in workingtime:\n",
    "    print(str(i[0]), \"to\", str(i[1]))"
   ]
  },
  {
   "cell_type": "code",
   "execution_count": 9,
   "metadata": {},
   "outputs": [],
   "source": [
    "def timerange(daystart, dayend):\n",
    "    mdiff = dayend.min - daystart.min + 60 * (dayend.min < daystart.min)\n",
    "    hdiff = dayend.hour - daystart.hour - (dayend.min < daystart.min)\n",
    "    return simpletime(hdiff, mdiff)"
   ]
  },
  {
   "cell_type": "code",
   "execution_count": 21,
   "metadata": {},
   "outputs": [],
   "source": [
    "scheduletime = timerange(daystart, dayend)"
   ]
  },
  {
   "cell_type": "code",
   "execution_count": 28,
   "metadata": {},
   "outputs": [
    {
     "data": {
      "text/plain": [
       "0"
      ]
     },
     "execution_count": 28,
     "metadata": {},
     "output_type": "execute_result"
    }
   ],
   "source": [
    "scheduletime.min"
   ]
  },
  {
   "cell_type": "code",
   "execution_count": 53,
   "metadata": {},
   "outputs": [
    {
     "data": {
      "text/plain": [
       "\"1-'Django Deployment', est: 0:30, type: Task, category: work\""
      ]
     },
     "execution_count": 53,
     "metadata": {},
     "output_type": "execute_result"
    }
   ],
   "source": [
    "newEvent = event(id=1, name=\"Django Deployment\",duration=simpletime(0,30), type=\"Task\", category=\"work\", priority=1, deadline=None)\n",
    "str(newEvent)"
   ]
  }
 ],
 "metadata": {
  "kernelspec": {
   "display_name": "Python 3.10.5 64-bit",
   "language": "python",
   "name": "python3"
  },
  "language_info": {
   "codemirror_mode": {
    "name": "ipython",
    "version": 3
   },
   "file_extension": ".py",
   "mimetype": "text/x-python",
   "name": "python",
   "nbconvert_exporter": "python",
   "pygments_lexer": "ipython3",
   "version": "3.10.5"
  },
  "orig_nbformat": 4,
  "vscode": {
   "interpreter": {
    "hash": "aee8b7b246df8f9039afb4144a1f6fd8d2ca17a180786b69acc140d282b71a49"
   }
  }
 },
 "nbformat": 4,
 "nbformat_minor": 2
}
